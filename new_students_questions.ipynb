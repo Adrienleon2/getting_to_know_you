{
 "cells": [
  {
   "cell_type": "code",
   "execution_count": 1,
   "id": "e4612283",
   "metadata": {},
   "outputs": [
    {
     "name": "stdout",
     "output_type": "stream",
     "text": [
      "What is your name?Adrien\n",
      "Hello Adrien !\n",
      "How old are you?26\n",
      "When you were born Princess Diana was still alive!\n",
      "Do you have working experience? please answer with yes or noyes\n",
      "Your exeperience will provide the knowledge to the class\n",
      "In which university did you study before doing the MiBA?Esade\n",
      "We are glad that you decided to stay in our university\n"
     ]
    }
   ],
   "source": [
    "student = input('What is your name?')\n",
    "print('Hello', student, '!')\n",
    "age = int(input('How old are you?'))\n",
    "if age <= 25:\n",
    "    print('We are glad to receive young students to our Master')\n",
    "else:\n",
    "    print('When you were born Princess Diana was still alive!')\n",
    "experience = input('Do you have working experience? please answer with yes or no')\n",
    "if experience == 'yes':\n",
    "    print('Your exeperience will provide the knowledge to the class')\n",
    "elif experience == 'no': \n",
    "    print('We hope this master will give you the opportunity to have your first working experience')\n",
    "university_post_grad = input('In which university did you study before doing the MiBA?')\n",
    "if university_post_grad == 'Esade':\n",
    "    print('We are glad that you decided to stay in our university')\n",
    "else:\n",
    "    print('We hope that Esade will give you as much excellence as', university_post_grad)\n",
    "    "
   ]
  },
  {
   "cell_type": "code",
   "execution_count": 2,
   "id": "6881fb7f",
   "metadata": {},
   "outputs": [
    {
     "name": "stdout",
     "output_type": "stream",
     "text": [
      "What is your name?Adrien\n",
      "Hello Adrien !\n",
      "How old are you?23\n",
      "We are glad to receive young students to our Master\n",
      "Do you have working experience? please answer with yes or nono\n",
      "We hope this master will give you the opportunity to have your first working experience\n",
      "In which university did you study before doing the MiBA?HEC\n",
      "We hope that Esade will give you as much excellence as HEC\n"
     ]
    }
   ],
   "source": [
    "student = input('What is your name?')\n",
    "print('Hello', student, '!')\n",
    "age = int(input('How old are you?'))\n",
    "if age <= 25:\n",
    "    print('We are glad to receive young students to our Master')\n",
    "else:\n",
    "    print('When you were born Princess Diana was still alive!')\n",
    "experience = input('Do you have working experience? please answer with yes or no')\n",
    "if experience == 'yes':\n",
    "    print('Your exeperience will provide the knowledge to the class')\n",
    "elif experience == 'no': \n",
    "    print('We hope this master will give you the opportunity to have your first working experience')\n",
    "university_post_grad = input('In which university did you study before doing the MiBA?')\n",
    "if university_post_grad == 'Esade':\n",
    "    print('We are glad that you decided to stay in our university')\n",
    "else:\n",
    "    print('We hope that Esade will give you as much excellence as', university_post_grad)"
   ]
  },
  {
   "cell_type": "code",
   "execution_count": null,
   "id": "36980613",
   "metadata": {},
   "outputs": [],
   "source": []
  }
 ],
 "metadata": {
  "kernelspec": {
   "display_name": "Python 3 (ipykernel)",
   "language": "python",
   "name": "python3"
  },
  "language_info": {
   "codemirror_mode": {
    "name": "ipython",
    "version": 3
   },
   "file_extension": ".py",
   "mimetype": "text/x-python",
   "name": "python",
   "nbconvert_exporter": "python",
   "pygments_lexer": "ipython3",
   "version": "3.9.12"
  }
 },
 "nbformat": 4,
 "nbformat_minor": 5
}
